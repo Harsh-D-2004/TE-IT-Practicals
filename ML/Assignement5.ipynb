{
 "cells": [
  {
   "cell_type": "code",
   "execution_count": 8,
   "id": "89357db0",
   "metadata": {},
   "outputs": [],
   "source": [
    "import pandas as pd\n",
    "import numpy as np\n",
    "import matplotlib.pyplot as mpl"
   ]
  },
  {
   "cell_type": "code",
   "execution_count": 9,
   "id": "3124113b",
   "metadata": {},
   "outputs": [],
   "source": [
    "dataset = pd.read_csv(\"Mall_Customers.csv\")"
   ]
  },
  {
   "cell_type": "code",
   "execution_count": 10,
   "id": "04fb561a",
   "metadata": {},
   "outputs": [
    {
     "data": {
      "text/html": [
       "<div>\n",
       "<style scoped>\n",
       "    .dataframe tbody tr th:only-of-type {\n",
       "        vertical-align: middle;\n",
       "    }\n",
       "\n",
       "    .dataframe tbody tr th {\n",
       "        vertical-align: top;\n",
       "    }\n",
       "\n",
       "    .dataframe thead th {\n",
       "        text-align: right;\n",
       "    }\n",
       "</style>\n",
       "<table border=\"1\" class=\"dataframe\">\n",
       "  <thead>\n",
       "    <tr style=\"text-align: right;\">\n",
       "      <th></th>\n",
       "      <th>CustomerID</th>\n",
       "      <th>Gender</th>\n",
       "      <th>Age</th>\n",
       "      <th>Annual Income (k$)</th>\n",
       "      <th>Spending Score (1-100)</th>\n",
       "    </tr>\n",
       "  </thead>\n",
       "  <tbody>\n",
       "    <tr>\n",
       "      <th>0</th>\n",
       "      <td>1</td>\n",
       "      <td>Male</td>\n",
       "      <td>19</td>\n",
       "      <td>15</td>\n",
       "      <td>39</td>\n",
       "    </tr>\n",
       "    <tr>\n",
       "      <th>1</th>\n",
       "      <td>2</td>\n",
       "      <td>Male</td>\n",
       "      <td>21</td>\n",
       "      <td>15</td>\n",
       "      <td>81</td>\n",
       "    </tr>\n",
       "    <tr>\n",
       "      <th>2</th>\n",
       "      <td>3</td>\n",
       "      <td>Female</td>\n",
       "      <td>20</td>\n",
       "      <td>16</td>\n",
       "      <td>6</td>\n",
       "    </tr>\n",
       "    <tr>\n",
       "      <th>3</th>\n",
       "      <td>4</td>\n",
       "      <td>Female</td>\n",
       "      <td>23</td>\n",
       "      <td>16</td>\n",
       "      <td>77</td>\n",
       "    </tr>\n",
       "    <tr>\n",
       "      <th>4</th>\n",
       "      <td>5</td>\n",
       "      <td>Female</td>\n",
       "      <td>31</td>\n",
       "      <td>17</td>\n",
       "      <td>40</td>\n",
       "    </tr>\n",
       "  </tbody>\n",
       "</table>\n",
       "</div>"
      ],
      "text/plain": [
       "   CustomerID  Gender  Age  Annual Income (k$)  Spending Score (1-100)\n",
       "0           1    Male   19                  15                      39\n",
       "1           2    Male   21                  15                      81\n",
       "2           3  Female   20                  16                       6\n",
       "3           4  Female   23                  16                      77\n",
       "4           5  Female   31                  17                      40"
      ]
     },
     "execution_count": 10,
     "metadata": {},
     "output_type": "execute_result"
    }
   ],
   "source": [
    "dataset.head()"
   ]
  },
  {
   "cell_type": "code",
   "execution_count": 11,
   "id": "b2788f8e",
   "metadata": {},
   "outputs": [
    {
     "data": {
      "text/plain": [
       "CustomerID                0\n",
       "Gender                    0\n",
       "Age                       0\n",
       "Annual Income (k$)        0\n",
       "Spending Score (1-100)    0\n",
       "dtype: int64"
      ]
     },
     "execution_count": 11,
     "metadata": {},
     "output_type": "execute_result"
    }
   ],
   "source": [
    "dataset.isna().sum()"
   ]
  },
  {
   "cell_type": "code",
   "execution_count": 13,
   "id": "40da41f6",
   "metadata": {},
   "outputs": [
    {
     "data": {
      "text/plain": [
       "<BarContainer object of 200 artists>"
      ]
     },
     "execution_count": 13,
     "metadata": {},
     "output_type": "execute_result"
    },
    {
     "data": {
      "image/png": "[encoded data removed]",
      "text/plain": [
       "<Figure size 432x288 with 1 Axes>"
      ]
     },
     "metadata": {
      "needs_background": "light"
     },
     "output_type": "display_data"
    }
   ],
   "source": [
    "mpl.bar(dataset['Gender'], dataset['Age'], color ='maroon', width = 0.4)"
   ]
  },
  {
   "cell_type": "code",
   "execution_count": 15,
   "id": "460f4e2e",
   "metadata": {},
   "outputs": [
    {
     "data": {
      "text/plain": [
       "<BarContainer object of 200 artists>"
      ]
     },
     "execution_count": 15,
     "metadata": {},
     "output_type": "execute_result"
    },
    {
     "data": {
      "image/png": "[encoded data removed]",
      "text/plain": [
       "<Figure size 432x288 with 1 Axes>"
      ]
     },
     "metadata": {
      "needs_background": "light"
     },
     "output_type": "display_data"
    }
   ],
   "source": [
    "mpl.barh(dataset['Gender'], dataset['Spending Score (1-100)'], color ='maroon')"
   ]
  },
  {
   "cell_type": "code",
   "execution_count": 23,
   "id": "fd0755e9",
   "metadata": {},
   "outputs": [],
   "source": [
    "freq = dataset['Age'].value_counts()"
   ]
  },
  {
   "cell_type": "code",
   "execution_count": 24,
   "id": "f882c3da",
   "metadata": {},
   "outputs": [
    {
     "data": {
      "text/plain": [
       "([<matplotlib.patches.Wedge at 0x7f9efd94c730>,\n",
       "  <matplotlib.patches.Wedge at 0x7f9efd94caf0>,\n",
       "  <matplotlib.patches.Wedge at 0x7f9efd94cfd0>,\n",
       "  <matplotlib.patches.Wedge at 0x7f9efd95a4f0>,\n",
       "  <matplotlib.patches.Wedge at 0x7f9efd95a9d0>,\n",
       "  <matplotlib.patches.Wedge at 0x7f9efd95aee0>,\n",
       "  <matplotlib.patches.Wedge at 0x7f9efd966400>,\n",
       "  <matplotlib.patches.Wedge at 0x7f9efd9668e0>,\n",
       "  <matplotlib.patches.Wedge at 0x7f9efd966dc0>,\n",
       "  <matplotlib.patches.Wedge at 0x7f9efd8f52e0>,\n",
       "  <matplotlib.patches.Wedge at 0x7f9efd94c700>,\n",
       "  <matplotlib.patches.Wedge at 0x7f9efd8f5c70>,\n",
       "  <matplotlib.patches.Wedge at 0x7f9efd901190>,\n",
       "  <matplotlib.patches.Wedge at 0x7f9efd901670>,\n",
       "  <matplotlib.patches.Wedge at 0x7f9efd901b50>,\n",
       "  <matplotlib.patches.Wedge at 0x7f9efd90e070>,\n",
       "  <matplotlib.patches.Wedge at 0x7f9efd90e550>,\n",
       "  <matplotlib.patches.Wedge at 0x7f9efd90ea30>,\n",
       "  <matplotlib.patches.Wedge at 0x7f9efd90ef10>,\n",
       "  <matplotlib.patches.Wedge at 0x7f9efd91d430>,\n",
       "  <matplotlib.patches.Wedge at 0x7f9efd91d910>,\n",
       "  <matplotlib.patches.Wedge at 0x7f9efd91ddf0>,\n",
       "  <matplotlib.patches.Wedge at 0x7f9efd928310>,\n",
       "  <matplotlib.patches.Wedge at 0x7f9efd9287f0>,\n",
       "  <matplotlib.patches.Wedge at 0x7f9efd928cd0>,\n",
       "  <matplotlib.patches.Wedge at 0x7f9efd8b71f0>,\n",
       "  <matplotlib.patches.Wedge at 0x7f9efd8b76d0>,\n",
       "  <matplotlib.patches.Wedge at 0x7f9efd8b7bb0>,\n",
       "  <matplotlib.patches.Wedge at 0x7f9efd8c50d0>,\n",
       "  <matplotlib.patches.Wedge at 0x7f9efd8c55b0>,\n",
       "  <matplotlib.patches.Wedge at 0x7f9efd8c5a90>,\n",
       "  <matplotlib.patches.Wedge at 0x7f9efd8c5f70>,\n",
       "  <matplotlib.patches.Wedge at 0x7f9efd8d2490>,\n",
       "  <matplotlib.patches.Wedge at 0x7f9efd8d2970>,\n",
       "  <matplotlib.patches.Wedge at 0x7f9efd8d2e50>,\n",
       "  <matplotlib.patches.Wedge at 0x7f9efd8df370>,\n",
       "  <matplotlib.patches.Wedge at 0x7f9efd8df850>,\n",
       "  <matplotlib.patches.Wedge at 0x7f9efd8dfd30>,\n",
       "  <matplotlib.patches.Wedge at 0x7f9efd8ec250>,\n",
       "  <matplotlib.patches.Wedge at 0x7f9efd8ec730>,\n",
       "  <matplotlib.patches.Wedge at 0x7f9efd8ecc10>,\n",
       "  <matplotlib.patches.Wedge at 0x7f9efd87a130>,\n",
       "  <matplotlib.patches.Wedge at 0x7f9efd87a610>,\n",
       "  <matplotlib.patches.Wedge at 0x7f9efd87aaf0>,\n",
       "  <matplotlib.patches.Wedge at 0x7f9efd87afd0>,\n",
       "  <matplotlib.patches.Wedge at 0x7f9efd8874f0>,\n",
       "  <matplotlib.patches.Wedge at 0x7f9efd8879d0>,\n",
       "  <matplotlib.patches.Wedge at 0x7f9efd887eb0>,\n",
       "  <matplotlib.patches.Wedge at 0x7f9efd8943d0>,\n",
       "  <matplotlib.patches.Wedge at 0x7f9efd8948b0>,\n",
       "  <matplotlib.patches.Wedge at 0x7f9efd894d90>],\n",
       " [Text(1.0836202589473203, 0.189122009292792, '32'),\n",
       "  Text(0.9721421911698898, 0.5147227993273715, '35'),\n",
       "  Text(0.8018654852284746, 0.7530018217768821, '19'),\n",
       "  Text(0.5894094736073278, 0.9287607186040616, '31'),\n",
       "  Text(0.3563091614795164, 1.0406938942098989, '30'),\n",
       "  Text(0.12070774271198727, 1.0933570509441903, '49'),\n",
       "  Text(-0.10351914234338747, 1.0951181612814618, '40'),\n",
       "  Text(-0.30689020996739524, 1.0563230561841241, '38'),\n",
       "  Text(-0.49938953939002273, 0.9801071818672799, '47'),\n",
       "  Text(-0.6741977462012995, 0.869170523555124, '27'),\n",
       "  Text(-0.8251221628016082, 0.7274430674998537, '36'),\n",
       "  Text(-0.9468162167289307, 0.5599455792656235, '23'),\n",
       "  Text(-1.028988424538779, 0.38882235296495155, '34'),\n",
       "  Text(-1.0771450868281915, 0.22306604833969643, '20'),\n",
       "  Text(-1.0987788614514875, 0.05181711712719075, '29'),\n",
       "  Text(-1.0933570530632168, -0.12070772351808542, '50'),\n",
       "  Text(-1.0610131645838192, -0.2902603393159827, '48'),\n",
       "  Text(-1.002543609914556, -0.4526657820285195, '21'),\n",
       "  Text(-0.9287607255021239, -0.589409462737721, '24'),\n",
       "  Text(-0.8475645778852776, -0.7011663756300294, '18'),\n",
       "  Text(-0.7530018311613904, -0.8018654764158344, '28'),\n",
       "  Text(-0.6465637962687655, -0.8899186801919164, '67'),\n",
       "  Text(-0.5299290645257202, -0.9639373353962877, '59'),\n",
       "  Text(-0.4049370352439342, -1.0227541236718887, '54'),\n",
       "  Text(-0.29026038588124264, -1.0610131518450052, '43'),\n",
       "  Text(-0.18912204416824102, -1.0836202528605794, '60'),\n",
       "  Text(-0.08630504187751184, -1.0966090642277773, '45'),\n",
       "  Text(0.01727801004056674, -1.0998642963425254, '39'),\n",
       "  Text(0.12070770112520024, -1.0933570555354135, '33'),\n",
       "  Text(0.22306598215714413, -1.0771451005339387, '37'),\n",
       "  Text(0.32344431382820976, -1.051372329791972, '22'),\n",
       "  Text(0.4209517310001161, -1.0162675042369533, '25'),\n",
       "  Text(0.5147227509737814, -0.9721422167717966, '46'),\n",
       "  Text(0.6039250555746906, -0.9193881265543443, '68'),\n",
       "  Text(0.6741977156846922, -0.8691705472262293, '52'),\n",
       "  Text(0.7274430095597172, -0.825122213882708, '44'),\n",
       "  Text(0.7778174183414049, -0.7778175002689975, '66'),\n",
       "  Text(0.8251221372610568, -0.7274430964699204, '57'),\n",
       "  Text(0.8691704762129101, -0.6741978072345113, '26'),\n",
       "  Text(0.9097885965346625, -0.6182917673845328, '53'),\n",
       "  Text(0.9468161970692217, -0.5599456125083729, '42'),\n",
       "  Text(0.9801071468001098, -0.4993896082132147, '63'),\n",
       "  Text(1.0095300615637988, -0.4368627413719245, '70'),\n",
       "  Text(1.0349688225629563, -0.37261177695108894, '51'),\n",
       "  Text(1.0563230346342702, -0.306890284142471, '58'),\n",
       "  Text(1.073508422462272, -0.23995763564130296, '65'),\n",
       "  Text(1.0864571631754927, -0.1720779840207951, '41'),\n",
       "  Text(1.0933570428212531, -0.12070781628861019, '55'),\n",
       "  Text(1.0966090611976034, -0.08630508037949337, '69'),\n",
       "  Text(1.0987788588741434, -0.05181717177958881, '64'),\n",
       "  Text(1.0998642945226247, -0.01727812588938561, '56')])"
      ]
     },
     "execution_count": 24,
     "metadata": {},
     "output_type": "execute_result"
    },
    {
     "data": {
      "image/png": "[encoded data removed]",
      "text/plain": [
       "<Figure size 432x288 with 1 Axes>"
      ]
     },
     "metadata": {},
     "output_type": "display_data"
    }
   ],
   "source": [
    "mpl.pie(freq.values , labels=freq.index)"
   ]
  },
  {
   "cell_type": "code",
   "execution_count": 25,
   "id": "7e46d153",
   "metadata": {},
   "outputs": [],
   "source": [
    "from sklearn.preprocessing import LabelEncoder"
   ]
  },
  {
   "cell_type": "code",
   "execution_count": 26,
   "id": "227190c2",
   "metadata": {},
   "outputs": [],
   "source": [
    "dataset['encoded_gender'] = LabelEncoder().fit_transform(dataset['Gender'])"
   ]
  },
  {
   "cell_type": "code",
   "execution_count": 27,
   "id": "a14543b1",
   "metadata": {},
   "outputs": [
    {
     "data": {
      "text/html": [
       "<div>\n",
       "<style scoped>\n",
       "    .dataframe tbody tr th:only-of-type {\n",
       "        vertical-align: middle;\n",
       "    }\n",
       "\n",
       "    .dataframe tbody tr th {\n",
       "        vertical-align: top;\n",
       "    }\n",
       "\n",
       "    .dataframe thead th {\n",
       "        text-align: right;\n",
       "    }\n",
       "</style>\n",
       "<table border=\"1\" class=\"dataframe\">\n",
       "  <thead>\n",
       "    <tr style=\"text-align: right;\">\n",
       "      <th></th>\n",
       "      <th>CustomerID</th>\n",
       "      <th>Gender</th>\n",
       "      <th>Age</th>\n",
       "      <th>Annual Income (k$)</th>\n",
       "      <th>Spending Score (1-100)</th>\n",
       "      <th>encoded_gender</th>\n",
       "    </tr>\n",
       "  </thead>\n",
       "  <tbody>\n",
       "    <tr>\n",
       "      <th>0</th>\n",
       "      <td>1</td>\n",
       "      <td>Male</td>\n",
       "      <td>19</td>\n",
       "      <td>15</td>\n",
       "      <td>39</td>\n",
       "      <td>1</td>\n",
       "    </tr>\n",
       "    <tr>\n",
       "      <th>1</th>\n",
       "      <td>2</td>\n",
       "      <td>Male</td>\n",
       "      <td>21</td>\n",
       "      <td>15</td>\n",
       "      <td>81</td>\n",
       "      <td>1</td>\n",
       "    </tr>\n",
       "    <tr>\n",
       "      <th>2</th>\n",
       "      <td>3</td>\n",
       "      <td>Female</td>\n",
       "      <td>20</td>\n",
       "      <td>16</td>\n",
       "      <td>6</td>\n",
       "      <td>0</td>\n",
       "    </tr>\n",
       "    <tr>\n",
       "      <th>3</th>\n",
       "      <td>4</td>\n",
       "      <td>Female</td>\n",
       "      <td>23</td>\n",
       "      <td>16</td>\n",
       "      <td>77</td>\n",
       "      <td>0</td>\n",
       "    </tr>\n",
       "    <tr>\n",
       "      <th>4</th>\n",
       "      <td>5</td>\n",
       "      <td>Female</td>\n",
       "      <td>31</td>\n",
       "      <td>17</td>\n",
       "      <td>40</td>\n",
       "      <td>0</td>\n",
       "    </tr>\n",
       "  </tbody>\n",
       "</table>\n",
       "</div>"
      ],
      "text/plain": [
       "   CustomerID  Gender  Age  Annual Income (k$)  Spending Score (1-100)  \\\n",
       "0           1    Male   19                  15                      39   \n",
       "1           2    Male   21                  15                      81   \n",
       "2           3  Female   20                  16                       6   \n",
       "3           4  Female   23                  16                      77   \n",
       "4           5  Female   31                  17                      40   \n",
       "\n",
       "   encoded_gender  \n",
       "0               1  \n",
       "1               1  \n",
       "2               0  \n",
       "3               0  \n",
       "4               0  "
      ]
     },
     "execution_count": 27,
     "metadata": {},
     "output_type": "execute_result"
    }
   ],
   "source": [
    "dataset.head()"
   ]
  },
  {
   "cell_type": "code",
   "execution_count": 29,
   "id": "bc29c8ea",
   "metadata": {},
   "outputs": [],
   "source": [
    "dataset_clean = dataset.drop(['Gender'] , axis=1)"
   ]
  },
  {
   "cell_type": "code",
   "execution_count": 30,
   "id": "d397b73d",
   "metadata": {},
   "outputs": [
    {
     "data": {
      "text/html": [
       "<div>\n",
       "<style scoped>\n",
       "    .dataframe tbody tr th:only-of-type {\n",
       "        vertical-align: middle;\n",
       "    }\n",
       "\n",
       "    .dataframe tbody tr th {\n",
       "        vertical-align: top;\n",
       "    }\n",
       "\n",
       "    .dataframe thead th {\n",
       "        text-align: right;\n",
       "    }\n",
       "</style>\n",
       "<table border=\"1\" class=\"dataframe\">\n",
       "  <thead>\n",
       "    <tr style=\"text-align: right;\">\n",
       "      <th></th>\n",
       "      <th>CustomerID</th>\n",
       "      <th>Age</th>\n",
       "      <th>Annual Income (k$)</th>\n",
       "      <th>Spending Score (1-100)</th>\n",
       "      <th>encoded_gender</th>\n",
       "    </tr>\n",
       "  </thead>\n",
       "  <tbody>\n",
       "    <tr>\n",
       "      <th>0</th>\n",
       "      <td>1</td>\n",
       "      <td>19</td>\n",
       "      <td>15</td>\n",
       "      <td>39</td>\n",
       "      <td>1</td>\n",
       "    </tr>\n",
       "    <tr>\n",
       "      <th>1</th>\n",
       "      <td>2</td>\n",
       "      <td>21</td>\n",
       "      <td>15</td>\n",
       "      <td>81</td>\n",
       "      <td>1</td>\n",
       "    </tr>\n",
       "    <tr>\n",
       "      <th>2</th>\n",
       "      <td>3</td>\n",
       "      <td>20</td>\n",
       "      <td>16</td>\n",
       "      <td>6</td>\n",
       "      <td>0</td>\n",
       "    </tr>\n",
       "    <tr>\n",
       "      <th>3</th>\n",
       "      <td>4</td>\n",
       "      <td>23</td>\n",
       "      <td>16</td>\n",
       "      <td>77</td>\n",
       "      <td>0</td>\n",
       "    </tr>\n",
       "    <tr>\n",
       "      <th>4</th>\n",
       "      <td>5</td>\n",
       "      <td>31</td>\n",
       "      <td>17</td>\n",
       "      <td>40</td>\n",
       "      <td>0</td>\n",
       "    </tr>\n",
       "  </tbody>\n",
       "</table>\n",
       "</div>"
      ],
      "text/plain": [
       "   CustomerID  Age  Annual Income (k$)  Spending Score (1-100)  encoded_gender\n",
       "0           1   19                  15                      39               1\n",
       "1           2   21                  15                      81               1\n",
       "2           3   20                  16                       6               0\n",
       "3           4   23                  16                      77               0\n",
       "4           5   31                  17                      40               0"
      ]
     },
     "execution_count": 30,
     "metadata": {},
     "output_type": "execute_result"
    }
   ],
   "source": [
    "dataset_clean.head()"
   ]
  },
  {
   "cell_type": "code",
   "execution_count": null,
   "id": "0d1a1a5a",
   "metadata": {},
   "outputs": [],
   "source": []
  }
 ],
 "metadata": {
  "kernelspec": {
   "display_name": "Python 3 (ipykernel)",
   "language": "python",
   "name": "python3"
  },
  "language_info": {
   "codemirror_mode": {
    "name": "ipython",
    "version": 3
   },
   "file_extension": ".py",
   "mimetype": "text/x-python",
   "name": "python",
   "nbconvert_exporter": "python",
   "pygments_lexer": "ipython3",
   "version": "3.9.12"
  }
 },
 "nbformat": 4,
 "nbformat_minor": 5
}
